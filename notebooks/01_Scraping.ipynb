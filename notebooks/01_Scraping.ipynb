{
 "cells": [
  {
   "cell_type": "code",
   "execution_count": 3,
   "metadata": {
    "slideshow": {
     "slide_type": "skip"
    }
   },
   "outputs": [],
   "source": [
    "import sys\n",
    "# adding to the path variables the one folder higher (locally, not changing system variables)\n",
    "\n",
    "import pandas as pd\n",
    "import warnings\n",
    "import requests\n",
    "\n",
    "from bs4 import BeautifulSoup\n",
    "import time\n",
    "\n",
    "import re\n",
    "import json\n",
    "\n",
    "warnings.filterwarnings('ignore')"
   ]
  },
  {
   "cell_type": "code",
   "execution_count": 26,
   "metadata": {},
   "outputs": [
    {
     "data": {
      "text/plain": [
       "[<li class=\"pagination-item\"><span class=\"padding-left-15 paddint-left-sm-12 padding-right-15 padding-right-sm-12 v-line-shadow v-line-shadow-l\">0</span></li>,\n",
       " <li class=\"pagination-item\"> <a class=\"padding-left-15 paddint-left-sm-12 padding-right-15 padding-right-sm-12 v-line-shadow v-line-shadow-l cursor-hand\" data-enum=\"1\" onclick=\"immonet.showPage('//www.immonet.de', 'berlin/wohnung-mieten-seite1.html');\" title=\"Seite 1\">1</a></li>,\n",
       " <li class=\"pagination-item\"><span class=\"padding-left-6 padding-right-6 v-line-shadow v-line-shadow-l\">... </span></li>,\n",
       " <li class=\"pagination-item\"><a class=\"padding-left-15 paddint-left-sm-12 padding-right-15 padding-right-sm-12 v-line-shadow v-line-shadow-l cursor-hand\" data-enum=\"21\" onclick=\"immonet.showPage('//www.immonet.de', 'berlin/wohnung-mieten-seite21.html');\" title=\"Seite 21\">21</a></li>]"
      ]
     },
     "execution_count": 26,
     "metadata": {},
     "output_type": "execute_result"
    }
   ],
   "source": [
    "url=f\"https://www.immonet.de/berlin/wohnung-mieten-seite0.html\"\n",
    "url_read_out = requests.get(url)\n",
    "content = BeautifulSoup(url_read_out.content, \"html.parser\")\n",
    "doc = content.find_all(\"li\", \"pagination-item\") # the target dictionary has the name \"utag_data\"\n",
    "doc"
   ]
  },
  {
   "attachments": {},
   "cell_type": "markdown",
   "metadata": {},
   "source": [
    "# make function hamburg or berlin"
   ]
  },
  {
   "cell_type": "code",
   "execution_count": 20,
   "metadata": {},
   "outputs": [],
   "source": [
    "# Immonet data\n",
    "number_page = re.search(\"data-enum=\\\"[0-9][0-9]+\\\"\", str(doc)).group(0)\n",
    "max_page = int(re.search(\"\\d+\", number_page).group(0))"
   ]
  },
  {
   "cell_type": "code",
   "execution_count": 25,
   "metadata": {},
   "outputs": [
    {
     "name": "stdout",
     "output_type": "stream",
     "text": [
      "21\n"
     ]
    }
   ],
   "source": [
    "loop_count = 0\n",
    "for i in range(max_page):\n",
    "    loop_count +=1\n",
    "    time.sleep(2) # scrap every 2 seconds\n",
    "    url=f\"https://www.immonet.de/berlin/wohnung-mieten-seite{i}.html\"\n",
    "    url_read_out = requests.get(url)\n",
    "    content = BeautifulSoup(url_read_out.content, \"html.parser\")\n",
    "    doc = content.body.find(string = re.compile(\"utag_data\")) # the target dictionary has the name \"utag_data\"\n",
    "    data = json.loads(re.search('({.+})', doc).group(0).replace(\"'\", '\"')) # extract the target dictionary\n",
    "    df = pd.DataFrame(dict([(k,pd.Series(v)) for k,v in data.items()])).dropna(axis=1) # create a pandas dataframe. ignore arrays of different length\n",
    "    if i == 0:\n",
    "        complete_session_df = df\n",
    "\n",
    "    complete_session_df = pd.concat([complete_session_df, df])\n",
    "print(\"Number of Scraped Pages\": loop_count)"
   ]
  },
  {
   "cell_type": "code",
   "execution_count": 34,
   "metadata": {},
   "outputs": [
    {
     "ename": "ModuleNotFoundError",
     "evalue": "No module named 'date'",
     "output_type": "error",
     "traceback": [
      "\u001b[0;31m---------------------------------------------------------------------------\u001b[0m",
      "\u001b[0;31mModuleNotFoundError\u001b[0m                       Traceback (most recent call last)",
      "Cell \u001b[0;32mIn[34], line 1\u001b[0m\n\u001b[0;32m----> 1\u001b[0m \u001b[39mimport\u001b[39;00m \u001b[39mdate\u001b[39;00m\n",
      "\u001b[0;31mModuleNotFoundError\u001b[0m: No module named 'date'"
     ]
    }
   ],
   "source": [
    "import date"
   ]
  },
  {
   "cell_type": "code",
   "execution_count": 33,
   "metadata": {},
   "outputs": [
    {
     "ename": "NameError",
     "evalue": "name 'date' is not defined",
     "output_type": "error",
     "traceback": [
      "\u001b[0;31m---------------------------------------------------------------------------\u001b[0m",
      "\u001b[0;31mNameError\u001b[0m                                 Traceback (most recent call last)",
      "Cell \u001b[0;32mIn[33], line 1\u001b[0m\n\u001b[0;32m----> 1\u001b[0m \u001b[39mprint\u001b[39m(date\u001b[39m.\u001b[39mtoday())\n",
      "\u001b[0;31mNameError\u001b[0m: name 'date' is not defined"
     ]
    }
   ],
   "source": [
    "print(date.today())"
   ]
  },
  {
   "cell_type": "code",
   "execution_count": null,
   "metadata": {},
   "outputs": [],
   "source": []
  }
 ],
 "metadata": {
  "kernelspec": {
   "display_name": ".venv",
   "language": "python",
   "name": "python3"
  },
  "language_info": {
   "codemirror_mode": {
    "name": "ipython",
    "version": 3
   },
   "file_extension": ".py",
   "mimetype": "text/x-python",
   "name": "python",
   "nbconvert_exporter": "python",
   "pygments_lexer": "ipython3",
   "version": "3.9.8"
  },
  "metadata": {
   "interpreter": {
    "hash": "aee8b7b246df8f9039afb4144a1f6fd8d2ca17a180786b69acc140d282b71a49"
   }
  },
  "vscode": {
   "interpreter": {
    "hash": "365960973fd9d93e6d7c4bf768acb2b4d13ef26b200fdf4633ae34337b8d1f23"
   }
  }
 },
 "nbformat": 4,
 "nbformat_minor": 4
}
